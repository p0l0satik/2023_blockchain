{
 "cells": [
  {
   "cell_type": "markdown",
   "metadata": {},
   "source": [
    "# HW 2 "
   ]
  },
  {
   "cell_type": "markdown",
   "metadata": {},
   "source": [
    "### Problem 1 (3 points)"
   ]
  },
  {
   "cell_type": "markdown",
   "metadata": {},
   "source": [
    "The ElGamal cryptosystem is based on the complexity of calculating the discrete logarithm for large primes 𝑝. In this task we will ask you to implement your own ElGamal encryption scheme on Python."
   ]
  },
  {
   "cell_type": "markdown",
   "metadata": {},
   "source": [
    "  1. Implement function for generating keys. The function must generate a random prime number (use Fermat primality test). (1 point)\n",
    "  \n",
    "*Note. You can assume that all the numbers are small, for example, less than $2^{32}$.*"
   ]
  },
  {
   "cell_type": "code",
   "execution_count": 45,
   "metadata": {},
   "outputs": [],
   "source": [
    "def fast_pow(x, y):\n",
    "    if y == 0:\n",
    "        return 1\n",
    "    val = fast_pow(x, int(y / 2))\n",
    "    if y % 2 == 0:\n",
    "        return val * val\n",
    "    else:\n",
    "        return x * val * val\n",
    "\n",
    "def inv(a, q, x = 1):\n",
    "    return fast_pow(a, q - 1 - x) % q\n",
    "\n",
    "\n",
    "# i = 16\n",
    "# print(inv(i, 1, 17))\n",
    "# print((inv(i, 1, 17) * i) %17)\n"
   ]
  },
  {
   "cell_type": "code",
   "execution_count": 8,
   "metadata": {},
   "outputs": [
    {
     "data": {
      "text/plain": [
       "5"
      ]
     },
     "execution_count": 8,
     "metadata": {},
     "output_type": "execute_result"
    }
   ],
   "source": [
    "import random\n",
    "def gcd(a, b):\n",
    "    if a < b:\n",
    "        return gcd(b, a)\n",
    "    elif a % b == 0:\n",
    "        return b;\n",
    "    else:\n",
    "        return gcd(b, a % b)\n",
    "\n",
    "# Iterative Function to calculate \n",
    "# (a^n)%p in O(logy) \n",
    "def mod_power(a, n, p):\n",
    "      \n",
    "    # Initialize result \n",
    "    res = 1 \n",
    "      \n",
    "    # Update 'a' if 'a' >= p \n",
    "    a = a % p  \n",
    "      \n",
    "    while n > 0:\n",
    "          \n",
    "        # If n is odd, multiply \n",
    "        # 'a' with result \n",
    "        if n % 2:\n",
    "            res = (res * a) % p\n",
    "            n = n - 1\n",
    "        else:\n",
    "            a = (a ** 2) % p\n",
    "              \n",
    "            # n must be even now \n",
    "            n = n // 2\n",
    "              \n",
    "    return res % p\n",
    "\n",
    "def prime_test(n, k=100):\n",
    "    if n == 1:\n",
    "        return False\n",
    "    for i in range(k):\n",
    "        if mod_power(random.randint(2, n - 2), n - 1, n) != 1:\n",
    "            return False\n",
    "    return True\n",
    "\n",
    "def gen_prime(start = 7, stop = 23):\n",
    "    n = random.randint(2, 11)\n",
    "    while not prime_test(n):\n",
    "        n = random.randint(2, 11)\n",
    "    return n\n",
    "\n",
    "gen_prime()"
   ]
  },
  {
   "cell_type": "markdown",
   "metadata": {},
   "source": [
    "2. Implement functions that realize the encryption and decryption in ElGamal protocol. (1 point)"
   ]
  },
  {
   "cell_type": "code",
   "execution_count": null,
   "metadata": {},
   "outputs": [],
   "source": []
  },
  {
   "cell_type": "markdown",
   "metadata": {},
   "source": [
    "3. Encrypte message $M=4$, using open key $(y=8,g=6,p=13)$, private key $(x=3,g=6,p=13)$ and random parameter $K=11$ (1 point)"
   ]
  },
  {
   "cell_type": "code",
   "execution_count": null,
   "metadata": {},
   "outputs": [],
   "source": []
  },
  {
   "cell_type": "markdown",
   "metadata": {},
   "source": [
    "### Problem 2 (4 points)"
   ]
  },
  {
   "cell_type": "markdown",
   "metadata": {},
   "source": [
    "There are analogues of ElGamal cryptosystems, in which instead of the discrete logarithm problem in multiplicative fields, the discrete logarithm problem in groups of points of elliptic curves over finite fields is used. There is a quickly performed operation here - multiplication of an integer 𝑥 to the point 𝐴 (summing the point to itself an integer number of times). In this task, we will ask you to write python function that returns all group elements of a certain elliptic curve over a finite field and performs the points summation. "
   ]
  },
  {
   "cell_type": "markdown",
   "metadata": {},
   "source": [
    "1. Write a python function that list all points of elliptic curve $y^2=x^3-12x-6$ over $F_{17}$ (1 points)"
   ]
  },
  {
   "cell_type": "code",
   "execution_count": 14,
   "metadata": {},
   "outputs": [
    {
     "name": "stdout",
     "output_type": "stream",
     "text": [
      "[(1, 0), (3, 6), (3, 11), (5, 5), (5, 12), (6, 6), (6, 11), (7, 7), (7, 10), (8, 6), (8, 11)]\n"
     ]
    }
   ],
   "source": [
    "from collections import defaultdict\n",
    "from itertools import product\n",
    "q = 17\n",
    "a = (-12) % q\n",
    "def calc_roots(q):\n",
    "    roots = defaultdict(list)\n",
    "    for i in range(q):\n",
    "        roots[(fast_pow(i, 2)) % q].append(i)\n",
    "    return roots\n",
    "# print(calc_roots(q))\n",
    "roots = calc_roots(q)\n",
    "def solve(x):\n",
    "    return ((fast_pow(x, 3) - (12 * x) % q) % q - 6) % q\n",
    "\n",
    "points = []\n",
    "for i in range(q):\n",
    "    points += list(product([i], roots[(solve(i) % q)]))\n",
    "print(points)"
   ]
  },
  {
   "cell_type": "markdown",
   "metadata": {},
   "source": [
    "2. Compute the sum of any two points in group above and make sure that result lies within the same group. (0.5 point)"
   ]
  },
  {
   "cell_type": "code",
   "execution_count": 57,
   "metadata": {},
   "outputs": [],
   "source": [
    "def calc_m(p1, p2, a, q):\n",
    "    if p1 == p2:\n",
    "        return (((3 * fast_pow(p1[0], 2) % q) + a) % q ) * inv((2 * p1[1]) % q, q)\n",
    "    return (p2[1] - p1[1]) * inv((p2[0] - p1[0]), q)\n",
    "\n",
    "def sum(p1, p2, a, q):\n",
    "    if (p1[0]==p2[0] and p1[1]!=p2[1]):\n",
    "        return \"inf\"\n",
    "    m = calc_m(p1, p2, a, q)\n",
    "    m_2 = fast_pow(m, 2)\n",
    "    return ((m_2 - p1[0] - p2[0]) % q, (m * (2 * p1[0] + p2[0] - m_2) - p1[1]) % q) \n",
    "\n",
    "\n",
    "for p1, p2 in product(points, repeat=2):\n",
    "    if p1 == (1, 0) or p2 == (1, 0):\n",
    "        continue\n",
    "    p = sum(p1, p2, a, q)\n",
    "    if p == \"inf\":\n",
    "        continue\n",
    "    if p not in points:\n",
    "        print(p1, p2, p)\n"
   ]
  },
  {
   "cell_type": "markdown",
   "metadata": {},
   "source": [
    "3. For the point (6,6) define whether it generates the whole group or subgroup of points of this elliptic curve. (2 points)"
   ]
  },
  {
   "cell_type": "code",
   "execution_count": 60,
   "metadata": {},
   "outputs": [
    {
     "name": "stdout",
     "output_type": "stream",
     "text": [
      "[(6, 6), (1, 0), (6, 11)]\n",
      "subgroup\n"
     ]
    }
   ],
   "source": [
    "new_points = [(6, 6)]\n",
    "generator = (6,6)\n",
    "new_gen = sum(generator, generator, a, q)\n",
    "flag = True\n",
    "while new_gen not in new_points:\n",
    "    if new_gen == \"inf\":\n",
    "        break\n",
    "    if new_gen not in points:\n",
    "        print(new_gen, \"=> not subgroup or group\")\n",
    "        flag = False\n",
    "        break\n",
    "    new_points.append(new_gen)\n",
    "    new_gen = sum(new_gen, generator, a, q)\n",
    "    \n",
    "print(new_points)\n",
    "if not flag:\n",
    "    print(\"not group and not subgroup\")\n",
    "elif points == new_points:\n",
    "    print(\"group\")\n",
    "else:\n",
    "    print(\"subgroup\")\n"
   ]
  },
  {
   "cell_type": "markdown",
   "metadata": {},
   "source": [
    "4. Compare the number of points with Hasse’s estimate $|N-(p+1)|\\leq 2{\\sqrt  {p}}$, where $N$ is the number of points on the curve and $p$ is the finite field order. (0.5 point)"
   ]
  },
  {
   "cell_type": "code",
   "execution_count": null,
   "metadata": {},
   "outputs": [],
   "source": []
  },
  {
   "cell_type": "markdown",
   "metadata": {},
   "source": [
    "### Problem 3 (3 points)"
   ]
  },
  {
   "cell_type": "markdown",
   "metadata": {},
   "source": [
    "Let us consider the finite field $\\mathbb{Z}_p$ with $p=11$. A secret was shared using $(n,3)$-threshold Shamir secret sharing scheme. $4$ shares are known: $(2;9), (3;10), (6;4), (7;10)$. Reconstruct the polynomial $f(x)$ and the common secret $f(0)$.\n",
    "\n",
    " Note that each share is given in the form $(x_i; f(x_i))$."
   ]
  },
  {
   "cell_type": "code",
   "execution_count": null,
   "metadata": {},
   "outputs": [],
   "source": []
  }
 ],
 "metadata": {
  "kernelspec": {
   "display_name": "Python 3",
   "language": "python",
   "name": "python3"
  },
  "language_info": {
   "codemirror_mode": {
    "name": "ipython",
    "version": 3
   },
   "file_extension": ".py",
   "mimetype": "text/x-python",
   "name": "python",
   "nbconvert_exporter": "python",
   "pygments_lexer": "ipython3",
   "version": "3.8.10"
  },
  "vscode": {
   "interpreter": {
    "hash": "31f2aee4e71d21fbe5cf8b01ff0e069b9275f58929596ceb00d14d90e3e16cd6"
   }
  }
 },
 "nbformat": 4,
 "nbformat_minor": 2
}
